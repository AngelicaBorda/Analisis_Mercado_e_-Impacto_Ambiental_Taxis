{
 "cells": [
  {
   "cell_type": "code",
   "execution_count": 3,
   "metadata": {},
   "outputs": [
    {
     "name": "stderr",
     "output_type": "stream",
     "text": [
      "El sistema no puede encontrar el archivo especificado.\n"
     ]
    },
    {
     "name": "stdout",
     "output_type": "stream",
     "text": [
      "Collecting ruamel-yaml\n",
      "  Downloading ruamel.yaml-0.18.6-py3-none-any.whl.metadata (23 kB)\n",
      "Collecting ruamel.yaml.clib>=0.2.7 (from ruamel-yaml)\n",
      "  Downloading ruamel.yaml.clib-0.2.8-cp39-cp39-win_amd64.whl.metadata (2.3 kB)\n",
      "Downloading ruamel.yaml-0.18.6-py3-none-any.whl (117 kB)\n",
      "   ---------------------------------------- 0.0/117.8 kB ? eta -:--:--\n",
      "   ---------------------------------------- 117.8/117.8 kB 3.5 MB/s eta 0:00:00\n",
      "Downloading ruamel.yaml.clib-0.2.8-cp39-cp39-win_amd64.whl (118 kB)\n",
      "   ---------------------------------------- 0.0/118.4 kB ? eta -:--:--\n",
      "   ---------------------------------------- 118.4/118.4 kB 3.4 MB/s eta 0:00:00\n",
      "Installing collected packages: ruamel.yaml.clib, ruamel-yaml\n",
      "Successfully installed ruamel-yaml-0.18.6 ruamel.yaml.clib-0.2.8\n"
     ]
    }
   ],
   "source": [
    "# Necesite instalar esto previamente, para poder inatalar las librerias para scrapear\n",
    "!pip install pyqt5<5.13 pyqtwebengine<5.13\n",
    "!pip install ruamel-yaml\n"
   ]
  },
  {
   "cell_type": "code",
   "execution_count": 4,
   "metadata": {},
   "outputs": [
    {
     "name": "stdout",
     "output_type": "stream",
     "text": [
      "Requirement already satisfied: beautifulsoup4==4.11.2 in c:\\users\\hp\\anaconda3\\lib\\site-packages (4.11.2)\n",
      "Requirement already satisfied: soupsieve>1.2 in c:\\users\\hp\\anaconda3\\lib\\site-packages (from beautifulsoup4==4.11.2) (2.3.1)\n",
      "Requirement already satisfied: requests==2.27.1 in c:\\users\\hp\\anaconda3\\lib\\site-packages (2.27.1)\n",
      "Requirement already satisfied: urllib3<1.27,>=1.21.1 in c:\\users\\hp\\anaconda3\\lib\\site-packages (from requests==2.27.1) (1.26.11)\n",
      "Requirement already satisfied: certifi>=2017.4.17 in c:\\users\\hp\\anaconda3\\lib\\site-packages (from requests==2.27.1) (2022.9.14)\n",
      "Requirement already satisfied: charset-normalizer~=2.0.0 in c:\\users\\hp\\anaconda3\\lib\\site-packages (from requests==2.27.1) (2.0.4)\n",
      "Requirement already satisfied: idna<4,>=2.5 in c:\\users\\hp\\anaconda3\\lib\\site-packages (from requests==2.27.1) (3.3)\n"
     ]
    }
   ],
   "source": [
    "# Instalacion librerias para scrapear\n",
    "!pip3 install beautifulsoup4==4.11.2\n",
    "!pip3 install requests==2.27.1"
   ]
  },
  {
   "cell_type": "code",
   "execution_count": 2,
   "metadata": {},
   "outputs": [],
   "source": [
    "from bs4 import BeautifulSoup\n",
    "import requests"
   ]
  },
  {
   "cell_type": "code",
   "execution_count": 3,
   "metadata": {},
   "outputs": [],
   "source": [
    "# Empezamos el scraping\n",
    "\n",
    "# 1. Obtener el HTML\n",
    "URL_BASE = 'https://www.msn.com/es-ar/noticias/argentina/la-feroz-respuesta-de-grabois-a-galper%C3%ADn-no-me-importa-la-plata-segu%C3%AD-viviendo-en-tu-mansi%C3%B3n-buscando-de-qu%C3%A9-re%C3%ADr/ar-BB1irBJd?ocid=msedgntp&pc=U531&cvid=c686ac3e591342feac89492a90d4c10f&ei=10'\n",
    "pedido_obtenido = requests.get(URL_BASE)\n",
    "html_obtenido = pedido_obtenido.text\n",
    "\n",
    "# 2. \"Parsear\" ese HTML\n",
    "soup = BeautifulSoup(html_obtenido, \"html.parser\")"
   ]
  },
  {
   "cell_type": "code",
   "execution_count": 6,
   "metadata": {},
   "outputs": [
    {
     "name": "stdout",
     "output_type": "stream",
     "text": [
      "None\n"
     ]
    }
   ],
   "source": [
    "primer_h3 = soup.find('h3')\n",
    "print(primer_h3)"
   ]
  }
 ],
 "metadata": {
  "kernelspec": {
   "display_name": "Python 3",
   "language": "python",
   "name": "python3"
  },
  "language_info": {
   "codemirror_mode": {
    "name": "ipython",
    "version": 3
   },
   "file_extension": ".py",
   "mimetype": "text/x-python",
   "name": "python",
   "nbconvert_exporter": "python",
   "pygments_lexer": "ipython3",
   "version": "3.11.1"
  }
 },
 "nbformat": 4,
 "nbformat_minor": 2
}
